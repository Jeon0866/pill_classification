{
 "cells": [
  {
   "cell_type": "markdown",
   "metadata": {},
   "source": [
    "# Yolov8 classify\n",
    "\n",
    "- 참고문서<br>\n",
    "yolov8_classify : https://docs.ultralytics.com/ko/tasks/classify/#dataset-format"
   ]
  },
  {
   "cell_type": "markdown",
   "metadata": {},
   "source": [
    "# 학습하기 위한 데이터 나누기(현재 클래스별 1~2장)"
   ]
  },
  {
   "cell_type": "code",
   "execution_count": 1,
   "metadata": {},
   "outputs": [],
   "source": [
    "import os, shutil\n",
    "from sklearn.model_selection import train_test_split"
   ]
  },
  {
   "cell_type": "code",
   "execution_count": 2,
   "metadata": {},
   "outputs": [],
   "source": [
    "# 각 폴더 이름 가져오기\n",
    "frist_path = './medinode_data_001_120/'\n",
    "ls_dir = os.listdir(frist_path)"
   ]
  },
  {
   "cell_type": "code",
   "execution_count": 26,
   "metadata": {},
   "outputs": [],
   "source": [
    "# 한글로 문제 발생시\n",
    "\n",
    "for _ in ls_dir:\n",
    "    org_path = frist_path + _\n",
    "    new_path = frist_path + _.split('_')[0]\n",
    "    os.rename(org_path, new_path)   "
   ]
  },
  {
   "cell_type": "code",
   "execution_count": 3,
   "metadata": {},
   "outputs": [],
   "source": [
    "# 각 폴더 이름 가져오기\n",
    "frist_path = './medinode_data_001_120/'\n",
    "ls_dir = os.listdir(frist_path)"
   ]
  },
  {
   "cell_type": "code",
   "execution_count": null,
   "metadata": {},
   "outputs": [],
   "source": [
    "# data 폴더에 클래스별 만들어 놓기\n",
    "for _ in ls_dir:\n",
    "\n",
    "    if os.path.exists('./data/train') == False:\n",
    "        print('생성 완')\n",
    "        os.mkdir('./data/train')\n",
    "\n",
    "    if os.path.exists('./data/test') == False:\n",
    "        print('생성 완')\n",
    "        os.mkdir('./data/test')\n",
    "\n",
    "    train_path = './data/train/' + _\n",
    "    if os.path.exists(train_path) == False:\n",
    "        print('생성 완')\n",
    "        os.mkdir(train_path)\n",
    "    else:\n",
    "        print(train_path, '존재')\n",
    "    \n",
    "    test_path = './data/test/' + _\n",
    "    if os.path.exists(test_path) == False:\n",
    "        print('생성 완')\n",
    "        os.mkdir(test_path)\n",
    "    else:\n",
    "        print(test_path, '존재')"
   ]
  },
  {
   "cell_type": "code",
   "execution_count": 7,
   "metadata": {},
   "outputs": [],
   "source": [
    "# train : test = 9 : 1 로 나눠서 복사하기\n",
    "for _ in ls_dir:\n",
    "    path = frist_path + _ + '/'\n",
    "\n",
    "    ls_file_name = os.listdir(path)\n",
    "    train, test = train_test_split(ls_file_name, train_size=0.9, shuffle=False)\n",
    "\n",
    "    for a in train:\n",
    "        org_path = path + a\n",
    "        copy_path = './data/train/' + _ + '/'+ a\n",
    "        shutil.copy(org_path, copy_path)\n",
    "\n",
    "    for b in test:\n",
    "        org_path = path + b\n",
    "        copy_path = './data/test/' + _ + '/'+ b\n",
    "        shutil.copy(org_path, copy_path)"
   ]
  },
  {
   "cell_type": "markdown",
   "metadata": {},
   "source": [
    "### yolov8 classify 학습 진행"
   ]
  },
  {
   "cell_type": "code",
   "execution_count": 1,
   "metadata": {},
   "outputs": [
    {
     "name": "stderr",
     "output_type": "stream",
     "text": [
      "C:\\Users\\Jik\\AppData\\Roaming\\Python\\Python310\\site-packages\\transformers\\utils\\generic.py:441: UserWarning: torch.utils._pytree._register_pytree_node is deprecated. Please use torch.utils._pytree.register_pytree_node instead.\n",
      "  _torch_pytree._register_pytree_node(\n",
      "Ultralytics YOLOv8.0.20  Python-3.10.13 torch-2.2.1+cpu CPU\n",
      "\u001b[34m\u001b[1myolo\\engine\\trainer: \u001b[0mtask=classify, mode=train, model=yolov8n-cls.yaml, data=./data.yaml, epochs=1, patience=50, batch=16, imgsz=224, save=True, cache=True, device=, workers=16, project=None, name=None, exist_ok=False, pretrained=False, optimizer=SGD, verbose=True, seed=0, deterministic=True, single_cls=False, image_weights=False, rect=False, cos_lr=False, close_mosaic=10, resume=False, overlap_mask=True, mask_ratio=4, dropout=0.0, val=True, save_json=False, save_hybrid=False, conf=None, iou=0.7, max_det=300, half=False, dnn=False, plots=True, source=None, show=False, save_txt=False, save_conf=False, save_crop=False, hide_labels=False, hide_conf=False, vid_stride=1, line_thickness=3, visualize=False, augment=False, agnostic_nms=False, classes=None, retina_masks=False, boxes=True, format=torchscript, keras=False, optimize=False, int8=False, dynamic=False, simplify=False, opset=None, workspace=4, nms=False, lr0=0.1, lrf=0.01, momentum=0.937, weight_decay=0.0001, warmup_epochs=0, warmup_momentum=0.8, warmup_bias_lr=0.1, box=7.5, cls=0.5, dfl=1.5, fl_gamma=0.0, label_smoothing=0.1, nbs=256, hsv_h=0.015, hsv_s=0.7, hsv_v=0.4, degrees=0.0, translate=0.1, scale=0.5, shear=0.0, perspective=0.0, flipud=0.0, fliplr=0.5, mosaic=1.0, mixup=0.0, copy_paste=0.0, cfg=None, v5loader=False, save_dir=runs\\classify\\train\n"
     ]
    },
    {
     "name": "stdout",
     "output_type": "stream",
     "text": [
      "WARNING:tensorflow:From C:\\Users\\Jik\\AppData\\Roaming\\Python\\Python310\\site-packages\\keras\\src\\losses.py:2976: The name tf.losses.sparse_softmax_cross_entropy is deprecated. Please use tf.compat.v1.losses.sparse_softmax_cross_entropy instead.\n",
      "\n"
     ]
    },
    {
     "name": "stderr",
     "output_type": "stream",
     "text": [
      "Overriding model.yaml nc=1000 with nc=105\n",
      "\n",
      "                   from  n    params  module                                       arguments                     \n",
      "  0                  -1  1       464  ultralytics.nn.modules.Conv                  [3, 16, 3, 2]                 \n",
      "  1                  -1  1      4672  ultralytics.nn.modules.Conv                  [16, 32, 3, 2]                \n",
      "  2                  -1  1      7360  ultralytics.nn.modules.C2f                   [32, 32, 1, True]             \n",
      "  3                  -1  1     18560  ultralytics.nn.modules.Conv                  [32, 64, 3, 2]                \n",
      "  4                  -1  2     49664  ultralytics.nn.modules.C2f                   [64, 64, 2, True]             \n",
      "  5                  -1  1     73984  ultralytics.nn.modules.Conv                  [64, 128, 3, 2]               \n",
      "  6                  -1  2    197632  ultralytics.nn.modules.C2f                   [128, 128, 2, True]           \n",
      "  7                  -1  1    295424  ultralytics.nn.modules.Conv                  [128, 256, 3, 2]              \n",
      "  8                  -1  1    460288  ultralytics.nn.modules.C2f                   [256, 256, 1, True]           \n",
      "  9                  -1  1    464745  ultralytics.nn.modules.Classify              [256, 105]                    \n",
      "YOLOv8n-cls summary: 99 layers, 1572793 parameters, 1572793 gradients, 3.5 GFLOPs\n",
      "\u001b[34m\u001b[1moptimizer:\u001b[0m SGD(lr=0.1) with parameter groups 26 weight(decay=0.0), 27 weight(decay=0.0001), 27 bias\n",
      "Image sizes 224 train, 224 val\n",
      "Using 0 dataloader workers\n",
      "Logging results to \u001b[1mruns\\classify\\train\u001b[0m\n",
      "Starting training for 1 epochs...\n",
      "\n",
      "      Epoch    GPU_mem       loss  Instances       Size\n",
      "        1/1         0G     0.2776          5        224: 100%|██████████| 296/296 [03:25<00:00,  1.44it/s]\n",
      "               classes   top1_acc   top5_acc: 100%|██████████| 9/9 [00:12<00:00,  1.35s/it]\n",
      "                   all     0.0171      0.101\n",
      "\n",
      "1 epochs completed in 0.060 hours.\n",
      "Optimizer stripped from runs\\classify\\train\\weights\\last.pt, 3.2MB\n",
      "Optimizer stripped from runs\\classify\\train\\weights\\best.pt, 3.2MB\n",
      "Results saved to \u001b[1mruns\\classify\\train\u001b[0m\n"
     ]
    }
   ],
   "source": [
    "from ultralytics import YOLO\n",
    "\n",
    "# Load a model\n",
    "model = YOLO('yolov8n-cls.pt')  # load a pretrained model (recommended for training)\n",
    "\n",
    "# Train the model\n",
    "results = model.train(data='./data.yaml', epochs=1, imgsz=224, cache=True)"
   ]
  },
  {
   "cell_type": "markdown",
   "metadata": {},
   "source": [
    "### yolov8n-cls 모델 사용해서 predict"
   ]
  },
  {
   "cell_type": "code",
   "execution_count": 13,
   "metadata": {},
   "outputs": [
    {
     "name": "stderr",
     "output_type": "stream",
     "text": [
      "Results saved to \u001b[1mruns\\classify\\predict\u001b[0m\n",
      "1 label saved to runs\\classify\\predict\\labels\n"
     ]
    }
   ],
   "source": [
    "img_path = './data/test/001/049.jpg'\n",
    "results = model.predict(img_path, save=True, save_txt=True)"
   ]
  },
  {
   "cell_type": "code",
   "execution_count": 23,
   "metadata": {},
   "outputs": [
    {
     "data": {
      "text/plain": [
       "<bound method YOLO.info of <ultralytics.yolo.engine.model.YOLO object at 0x00000211EA31BEE0>>"
      ]
     },
     "execution_count": 23,
     "metadata": {},
     "output_type": "execute_result"
    }
   ],
   "source": []
  }
 ],
 "metadata": {
  "kernelspec": {
   "display_name": "simple_study",
   "language": "python",
   "name": "python3"
  },
  "language_info": {
   "codemirror_mode": {
    "name": "ipython",
    "version": 3
   },
   "file_extension": ".py",
   "mimetype": "text/x-python",
   "name": "python",
   "nbconvert_exporter": "python",
   "pygments_lexer": "ipython3",
   "version": "3.10.13"
  }
 },
 "nbformat": 4,
 "nbformat_minor": 2
}
