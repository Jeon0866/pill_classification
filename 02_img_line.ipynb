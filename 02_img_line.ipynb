{
 "cells": [
  {
   "cell_type": "markdown",
   "metadata": {},
   "source": [
    "# canny, gaussian blur <- 이미지 노이즈 줄이기"
   ]
  },
  {
   "cell_type": "code",
   "execution_count": 2,
   "metadata": {},
   "outputs": [],
   "source": [
    "import os, cv2, math\n",
    "import numpy as np"
   ]
  },
  {
   "cell_type": "code",
   "execution_count": 26,
   "metadata": {},
   "outputs": [],
   "source": [
    "# path = './medinode_data_001_120/001_649900540_아빌리파이정1밀리그램/000.jpg'\n",
    "# 한글 경로때문에 기존 cv2.imread(path) 는 사용 불가능!!\n",
    "# 그래서 해결방법은 한글 경로가 포함된 경우\n",
    "# numpy 행렬로 읽은 다음 cv2.imdecode 를 통해 복호화 해주면 opencv에서 사용가능\n",
    "# a = np.fromfile(path, np.uint8)\n",
    "\n",
    "# img = cv2.imdecode(a, cv2.IMREAD_COLOR)\n",
    "\n",
    "path = './medinode_data_001_120/001/005.jpg'\n",
    "\n",
    "img = cv2.imread(path)\n",
    "\n",
    "# 이미지 정보\n",
    "img_w, img_h, img_c = img.shape\n",
    "\n",
    "if img is None:\n",
    "    print('경로 확인 필요')\n",
    "\n",
    "# 윤곽선 잡기\n",
    "# canny\n",
    "one = 500\n",
    "two = 1000\n",
    "img_canny = cv2.Canny(img, one, two)\n",
    "\n",
    "# # gaussian blur 표준편차 사용하여 이미지 균일하게 다룸\n",
    "img_gaussian = cv2.GaussianBlur(img, ksize=(0,0), sigmaX=0.1)\n",
    "img_gaussian_canny = cv2.Canny(img_gaussian, one, two)\n",
    "\n",
    "# # 외곽선 검출 함수 cv2.findContours\n",
    "img_count = cv2.findContours(img_gaussian_canny, cv2.RETR_EXTERNAL, cv2.CHAIN_APPROX_SIMPLE)\n",
    "\n",
    "# # 외곽선 검출 그리기 cv2.drawContours\n",
    "# draw = cv2.drawContours(img, contours=img_count[0][0],contourIdx=-1, color=(0,0,255), thickness=2)\n",
    "# draw = cv2.drawContours(img, contours=img_count[0],contourIdx=-1, color=(0,0,255), thickness=2)\n",
    "\n",
    "# 조건문 넣어서 여기에 박스 \n",
    "# cv2.rectangle(img, 시작점, 종료점, color=색상, thickness=두께)\n",
    "\n",
    "# cv2.imshow('org', img)\n",
    "# cv2.imshow('canny', img_canny)\n",
    "# cv2.imshow('gaussian', img_gaussian)\n",
    "# cv2.imshow('gaussian_canny', img_gaussian_canny)\n",
    "cv2.imshow('draw', draw)\n",
    "\n",
    "cv2.waitKey()\n",
    "cv2.destroyAllWindows()"
   ]
  },
  {
   "cell_type": "code",
   "execution_count": null,
   "metadata": {},
   "outputs": [
    {
     "data": {
      "text/plain": [
       "4"
      ]
     },
     "execution_count": 32,
     "metadata": {},
     "output_type": "execute_result"
    }
   ],
   "source": [
    "# 윤곽선 검출시 총 개수\n",
    "len(img_count[0])"
   ]
  },
  {
   "cell_type": "code",
   "execution_count": null,
   "metadata": {},
   "outputs": [
    {
     "data": {
      "text/plain": [
       "array([[[509, 222]],\n",
       "\n",
       "       [[508, 223]],\n",
       "\n",
       "       [[508, 224]],\n",
       "\n",
       "       [[507, 225]],\n",
       "\n",
       "       [[507, 227]],\n",
       "\n",
       "       [[509, 227]],\n",
       "\n",
       "       [[510, 226]],\n",
       "\n",
       "       [[510, 223]],\n",
       "\n",
       "       [[511, 222]],\n",
       "\n",
       "       [[510, 223]]], dtype=int32)"
      ]
     },
     "execution_count": 33,
     "metadata": {},
     "output_type": "execute_result"
    }
   ],
   "source": [
    "# 첫번째 탐지된 객체의 각 점의 좌표 <- 이거 이용해서 최대 x, y 축 찾아낼수있음 그치만 방향은 알기 어렵.\n",
    "img_count[0][0]"
   ]
  },
  {
   "cell_type": "code",
   "execution_count": null,
   "metadata": {},
   "outputs": [
    {
     "data": {
      "text/plain": [
       "2"
      ]
     },
     "execution_count": 36,
     "metadata": {},
     "output_type": "execute_result"
    }
   ],
   "source": [
    "len(img_count)"
   ]
  },
  {
   "cell_type": "code",
   "execution_count": 11,
   "metadata": {},
   "outputs": [
    {
     "data": {
      "text/plain": [
       "(10, 10)"
      ]
     },
     "execution_count": 11,
     "metadata": {},
     "output_type": "execute_result"
    }
   ],
   "source": [
    "# 위에서 얻은 윤곽선 데이터를 이용해서 각 점의 x, y값 구하기\n",
    "# 그러면 가장 max_x, min_x, max_y, min_y 좌표를 얻어서 탐지된 박스의 넓이 구한 후\n",
    "# 넓이가 5 이하면 알약이 아니므로 그건 생략하고 나머지 객체들을 박스 지정!\n",
    "\n",
    "# 현재는 박스 하나만 선택하고 넓이 구하고 \n",
    "point_x = []\n",
    "point_y = []\n",
    "for i in img_count[0][0]:\n",
    "    for x, y in i:\n",
    "        point_x.append(x)\n",
    "        point_y.append(y)\n",
    "\n",
    "len(point_x), len(point_y)"
   ]
  },
  {
   "cell_type": "code",
   "execution_count": 12,
   "metadata": {},
   "outputs": [
    {
     "data": {
      "text/plain": [
       "(511, 507)"
      ]
     },
     "execution_count": 12,
     "metadata": {},
     "output_type": "execute_result"
    }
   ],
   "source": [
    "# x좌표\n",
    "max_x = max(point_x)\n",
    "min_x = min(point_x)\n",
    "\n",
    "max_x, min_x"
   ]
  },
  {
   "cell_type": "code",
   "execution_count": 13,
   "metadata": {},
   "outputs": [
    {
     "data": {
      "text/plain": [
       "(511, 222)"
      ]
     },
     "execution_count": 13,
     "metadata": {},
     "output_type": "execute_result"
    }
   ],
   "source": [
    "# y좌표\n",
    "max_y = max(point_y)\n",
    "min_y = min(point_y)\n",
    "\n",
    "max_x, min_y"
   ]
  },
  {
   "cell_type": "code",
   "execution_count": 14,
   "metadata": {},
   "outputs": [
    {
     "data": {
      "text/plain": [
       "20"
      ]
     },
     "execution_count": 14,
     "metadata": {},
     "output_type": "execute_result"
    }
   ],
   "source": [
    "len_x = abs(max_x - min_x)\n",
    "len_y = abs(max_y - min_y)\n",
    "\n",
    "len_x, len_y\n",
    "\n",
    "# 박스 넓이\n",
    "box_area = len_x * len_y\n",
    "box_area"
   ]
  },
  {
   "cell_type": "code",
   "execution_count": 20,
   "metadata": {},
   "outputs": [
    {
     "data": {
      "text/plain": [
       "4"
      ]
     },
     "execution_count": 20,
     "metadata": {},
     "output_type": "execute_result"
    }
   ],
   "source": [
    "a = list(img_count[0])"
   ]
  },
  {
   "cell_type": "code",
   "execution_count": 22,
   "metadata": {},
   "outputs": [
    {
     "data": {
      "text/plain": [
       "array([[[509, 222]],\n",
       "\n",
       "       [[508, 223]],\n",
       "\n",
       "       [[508, 224]],\n",
       "\n",
       "       [[507, 225]],\n",
       "\n",
       "       [[507, 227]],\n",
       "\n",
       "       [[509, 227]],\n",
       "\n",
       "       [[510, 226]],\n",
       "\n",
       "       [[510, 223]],\n",
       "\n",
       "       [[511, 222]],\n",
       "\n",
       "       [[510, 223]]], dtype=int32)"
      ]
     },
     "execution_count": 22,
     "metadata": {},
     "output_type": "execute_result"
    }
   ],
   "source": [
    "a.pop(0)"
   ]
  },
  {
   "cell_type": "code",
   "execution_count": 23,
   "metadata": {},
   "outputs": [],
   "source": [
    "import os, cv2, math\n",
    "\n",
    "path = './medinode_data_001_120/001/004.jpg'\n",
    "\n",
    "img = cv2.imread(path)\n",
    "\n",
    "if img is None:\n",
    "    print('경로 확인 필요')\n",
    "    \n",
    "# 이미지 정보\n",
    "img_w, img_h, img_c = img.shape\n",
    "\n",
    "# 윤곽선 잡기\n",
    "# canny\n",
    "one = 500\n",
    "two = 1000\n",
    "img_canny = cv2.Canny(img, one, two)\n",
    "\n",
    "# # gaussian blur 표준편차 사용하여 이미지 균일하게 다룸\n",
    "img_gaussian = cv2.GaussianBlur(img, ksize=(0,0), sigmaX=0.1)\n",
    "img_gaussian_canny = cv2.Canny(img_gaussian, one, two)\n",
    "\n",
    "# # 외곽선 검출 함수 cv2.findContours\n",
    "img_count = cv2.findContours(img_gaussian_canny, cv2.RETR_EXTERNAL, cv2.CHAIN_APPROX_SIMPLE)\n",
    "\n",
    "# img_count는 윤곽선의 정보를 담고있다.\n",
    "# 기존 자료형이 튜플여서 수정불가. 그래서 리스트로 변환\n",
    "ls_count = list(img_count[0])\n",
    "\n",
    "if len(ls_count) < 3:\n",
    "    raise('윤곽선 검출 실패!!! canny 쓰레스홀드 수정 필요')\n",
    "else:\n",
    "    drop_index = []\n",
    "    index = 0\n",
    "    img_count[0]\n",
    "    for i in img_count[0]:\n",
    "        point_x = []\n",
    "        point_y = []    \n",
    "        \n",
    "        # 리스트 차원축소 안하면 for문 하나더 사용해야함.\n",
    "        ls_2d = sum(i.tolist(), [])\n",
    "        for x, y in ls_2d:\n",
    "            point_x.append(x)\n",
    "            point_y.append(y)\n",
    "        \n",
    "        # 윤곽선 나온 좌표에서 최대 최소 점의 위치 구하기\n",
    "        max_x = max(point_x)\n",
    "        min_x = min(point_x)\n",
    "        max_y = max(point_y)\n",
    "        min_y = min(point_y)   \n",
    "\n",
    "        # 점과 점사이의 거리 이용해서 x, y 구하기\n",
    "        len_x = abs(max_x - min_x)\n",
    "        len_y = abs(max_y - min_y)\n",
    "\n",
    "        # 현재는 넓이가 50 이하면 알약이 아닌것으로 판단\n",
    "        if len_x * len_y < 50:\n",
    "            drop_index.append(index)\n",
    "            index += 1\n",
    "        else:\n",
    "            index += 1\n",
    "\n",
    "    drop_index.reverse()\n",
    "    # 불필요한 객체 삭제\n",
    "    for _ in drop_index:\n",
    "        ls_count.pop(_)\n",
    "\n",
    "# 박스 좌표 구하기\n",
    "box_point = []\n",
    "tag = 0\n",
    "for ls in ls_count:\n",
    "    p_x = []\n",
    "    p_y = []\n",
    "    ls_2d = sum(ls.tolist(), [])\n",
    "    for x, y in ls_2d:\n",
    "        p_x.append(x)\n",
    "        p_y.append(y)\n",
    "        \n",
    "    # 윤곽선 나온 좌표에서 최대 최소 점의 위치 구하기\n",
    "    max_x = max(p_x)\n",
    "    min_x = min(p_x)\n",
    "    max_y = max(p_y)\n",
    "    min_y = min(p_y)\n",
    "\n",
    "    # 박스의 각 좌표\n",
    "    # 왼쪽위 x1, 오른쪽위 x2, 왼쪽아래 x3, 오른쪽아래 x4\n",
    "    x1 = (min_x - 10, min_y - 10)\n",
    "    x2 = (max_x + 10, min_y - 10)\n",
    "    x3 = (min_x - 10, max_y + 10)\n",
    "    x4 = (max_x + 10, max_y + 10)\n",
    "    box_point.append((x1,x4))\n",
    "    cv2.rectangle(img, x1, x4, color=(0,255,0), thickness=2)\n",
    "    pill = img[min_y -1 : max_y + 10, min_x -10 : max_x + 10]\n",
    "    window_name = f'pill {tag}'\n",
    "    cv2.imshow(window_name, pill)\n",
    "    tag += 1\n",
    "\n",
    "\n",
    "# # 외곽선 검출 그리기 cv2.drawContours\n",
    "draw = cv2.drawContours(img, contours=ls_count,contourIdx=-1, color=(0,0,255), thickness=2)\n",
    "\n",
    "cv2.imshow('draw', img)\n",
    "\n",
    "cv2.waitKey()\n",
    "cv2.destroyAllWindows()"
   ]
  },
  {
   "cell_type": "code",
   "execution_count": 33,
   "metadata": {},
   "outputs": [
    {
     "data": {
      "text/plain": [
       "[[509, 222],\n",
       " [508, 223],\n",
       " [508, 224],\n",
       " [507, 225],\n",
       " [507, 227],\n",
       " [509, 227],\n",
       " [510, 226],\n",
       " [510, 223],\n",
       " [511, 222],\n",
       " [510, 223]]"
      ]
     },
     "execution_count": 33,
     "metadata": {},
     "output_type": "execute_result"
    }
   ],
   "source": [
    "sum((img_count[0])[0].tolist(), [])"
   ]
  },
  {
   "cell_type": "code",
   "execution_count": null,
   "metadata": {},
   "outputs": [],
   "source": []
  },
  {
   "cell_type": "markdown",
   "metadata": {},
   "source": []
  }
 ],
 "metadata": {
  "kernelspec": {
   "display_name": "pill",
   "language": "python",
   "name": "python3"
  },
  "language_info": {
   "codemirror_mode": {
    "name": "ipython",
    "version": 3
   },
   "file_extension": ".py",
   "mimetype": "text/x-python",
   "name": "python",
   "nbconvert_exporter": "python",
   "pygments_lexer": "ipython3",
   "version": "3.10.13"
  }
 },
 "nbformat": 4,
 "nbformat_minor": 2
}
